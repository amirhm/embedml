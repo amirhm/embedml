{
 "cells": [
  {
   "cell_type": "code",
   "execution_count": null,
   "metadata": {},
   "outputs": [],
   "source": [
    "import torch\n",
    "from torch import nn\n",
    "from torchvision import datasets\n",
    "from torchvision import transforms as Tf\n",
    "from torch.utils.data import Dataset\n",
    "from torch.utils.data import DataLoader\n"
   ]
  },
  {
   "cell_type": "code",
   "execution_count": null,
   "metadata": {},
   "outputs": [],
   "source": [
    "ds = datasets.MNIST('data', download=True)"
   ]
  },
  {
   "cell_type": "code",
   "execution_count": null,
   "metadata": {},
   "outputs": [],
   "source": [
    "class dataset(Dataset):\n",
    "    def __init__(self, data, targets):\n",
    "        super().__init__()\n",
    "        self.len = len(data)\n",
    "        self.data = data.view((-1, 28 * 28)).float()\n",
    "        self.data = (self.data - self.data.mean(axis=-1, keepdim=True)) / self.data.std(axis=-1, keepdim=True)\n",
    "\n",
    "\n",
    "        self.targets = targets\n",
    "\n",
    "    def __getitem__(self, idx):\n",
    "        return self.data[idx], self.targets[idx]\n",
    "\n",
    "    def __len__(self):\n",
    "        return self.len"
   ]
  },
  {
   "cell_type": "code",
   "execution_count": null,
   "metadata": {},
   "outputs": [],
   "source": [
    "train_ds , test_ds = (ds.data[:50000], ds.targets[:50000]) , (ds.data[50000:], ds.targets[50000:])\n",
    "train = dataset(*train_ds)\n",
    "eval = dataset(*test_ds)\n",
    "\n",
    "t_dl = DataLoader(train, batch_size=128)\n",
    "e_dl = DataLoader(eval, batch_size=16)\n"
   ]
  },
  {
   "cell_type": "code",
   "execution_count": null,
   "metadata": {},
   "outputs": [],
   "source": [
    "class simple(nn.Module):\n",
    "    def __init__(self):\n",
    "        super().__init__()\n",
    "        self.l1 = nn.Linear(28*28, 64, bias=True)\n",
    "        self.l2 = nn.Linear(64, 10, bias=True)\n",
    "        self.ac1 = nn.ReLU()\n",
    "        self.ac2 = nn.LogSoftmax(dim=1)\n",
    "    def forward(self, data):\n",
    "        y0 = self.ac1(self.l1(data))\n",
    "        y1 = self.ac2(self.l2(y0))\n",
    "        return y1\n"
   ]
  },
  {
   "cell_type": "code",
   "execution_count": null,
   "metadata": {},
   "outputs": [],
   "source": [
    "m = simple()\n",
    "criterion = nn.CrossEntropyLoss()\n",
    "optimizer = torch.optim.Adam(m.parameters(), lr=0.001)"
   ]
  },
  {
   "cell_type": "code",
   "execution_count": null,
   "metadata": {},
   "outputs": [],
   "source": [
    "def evaluate(m):\n",
    "    cnt = 0\n",
    "    for inp, target in e_dl:\n",
    "        l = m(inp).argmax(axis=-1)\n",
    "        cnt += (target == l).sum()\n",
    "    return cnt / len(e_dl) /e_dl.batch_size"
   ]
  },
  {
   "cell_type": "code",
   "execution_count": null,
   "metadata": {},
   "outputs": [],
   "source": [
    "from tqdm.notebook import tqdm\n",
    "\n",
    "loss_val = []\n",
    "for epoch in range(5):\n",
    "    for inp, target in (t:=tqdm(t_dl)):\n",
    "        optimizer.zero_grad()\n",
    "        labels = m(inp)\n",
    "        loss = criterion(labels, target)\n",
    "        loss.backward()\n",
    "        optimizer.step()\n",
    "        loss_val.append(loss.item())\n",
    "    print(f'accuracy = {evaluate(m):02.4f}')"
   ]
  },
  {
   "cell_type": "code",
   "execution_count": null,
   "metadata": {},
   "outputs": [],
   "source": []
  }
 ],
 "metadata": {
  "kernelspec": {
   "display_name": "Python 3.8.6 64-bit",
   "language": "python",
   "name": "python3"
  },
  "language_info": {
   "codemirror_mode": {
    "name": "ipython",
    "version": 3
   },
   "file_extension": ".py",
   "mimetype": "text/x-python",
   "name": "python",
   "nbconvert_exporter": "python",
   "pygments_lexer": "ipython3",
   "version": "3.8.6"
  },
  "orig_nbformat": 4,
  "vscode": {
   "interpreter": {
    "hash": "43d6bd1c65c6ab83354115e7642f714072bd96c4fdb04d6156b888e4b0ae4cae"
   }
  }
 },
 "nbformat": 4,
 "nbformat_minor": 2
}
