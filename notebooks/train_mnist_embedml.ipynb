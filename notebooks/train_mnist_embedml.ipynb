{
 "cells": [
  {
   "cell_type": "code",
   "execution_count": null,
   "metadata": {},
   "outputs": [],
   "source": [
    "# To download the mnist dataset \n",
    "from torchvision import datasets"
   ]
  },
  {
   "cell_type": "code",
   "execution_count": null,
   "metadata": {},
   "outputs": [],
   "source": [
    "import os\n",
    "import numpy as np"
   ]
  },
  {
   "cell_type": "code",
   "execution_count": null,
   "metadata": {},
   "outputs": [],
   "source": [
    "from embedml.tensor import Tensor\n",
    "from embedml.nn import Linear\n",
    "from embedml.nn import Module\n",
    "from embedml.nn import Softmax, LogSoftmax"
   ]
  },
  {
   "cell_type": "code",
   "execution_count": null,
   "metadata": {},
   "outputs": [],
   "source": [
    "ds = datasets.MNIST('data', download=True)"
   ]
  },
  {
   "cell_type": "code",
   "execution_count": null,
   "metadata": {},
   "outputs": [],
   "source": [
    "class dataset:\n",
    "    def __init__(self, data, targets):\n",
    "        super().__init__()\n",
    "        self.len = len(data)\n",
    "        self.data = data.view((-1, 28 * 28)).float()\n",
    "        self.normalize()\n",
    "        self.targets = targets\n",
    "\n",
    "    def normalize(self):\n",
    "        self.mean = self.data.mean(axis=-1, keepdim=True)\n",
    "        self.std = self.data.std(axis=-1, keepdim=True)\n",
    "        self.data = (self.data - self.mean) / self.std\n",
    "        \n",
    "    def __getitem__(self, idx):\n",
    "        return Tensor(self.data[idx], requires_grad=False), Tensor(self.targets[idx], requires_grad=False)\n",
    "\n",
    "    def __len__(self):\n",
    "        return self.len"
   ]
  },
  {
   "cell_type": "code",
   "execution_count": null,
   "metadata": {},
   "outputs": [],
   "source": [
    "def loader(dataset, bs):\n",
    "    index = 0\n",
    "    while index < (len(dataset) // bs):\n",
    "        slc = slice(index * bs, (index + 1)* bs)\n",
    "        index +=1\n",
    "        yield dataset[slc]\n"
   ]
  },
  {
   "cell_type": "code",
   "execution_count": null,
   "metadata": {},
   "outputs": [],
   "source": [
    "train_ds , test_ds = (ds.data[:50000], ds.targets[:50000]) , (ds.data[50000:], ds.targets[50000:])\n",
    "train = dataset(*train_ds)\n"
   ]
  },
  {
   "cell_type": "code",
   "execution_count": null,
   "metadata": {},
   "outputs": [],
   "source": [
    "t_dl = loader(train, 128)"
   ]
  },
  {
   "cell_type": "code",
   "execution_count": null,
   "metadata": {},
   "outputs": [],
   "source": [
    "class simple(Module):\n",
    "    def __init__(self):\n",
    "        super().__init__()\n",
    "        self.l1 = Linear(28*28, 32)\n",
    "        self.l2 = Linear(32, 10)\n",
    "        self.ac = LogSoftmax(dim=1)\n",
    "    def forward(self, data):\n",
    "        y0 = self.l1(data)\n",
    "        y1 = self.ac(self.l2(y0))\n",
    "        return y1"
   ]
  },
  {
   "cell_type": "code",
   "execution_count": null,
   "metadata": {},
   "outputs": [],
   "source": [
    "def one_hot(label, num_classes):\n",
    "    shape = label.shape[0], num_classes\n",
    "    y = np.zeros(shape)\n",
    "    y_ptr = y.reshape((-1,))\n",
    "    idx = label.flatten() + np.arange(0, (np.prod(shape)), shape[1])\n",
    "    y_ptr[idx] = 1\n",
    "    return y\n",
    "    "
   ]
  },
  {
   "cell_type": "code",
   "execution_count": null,
   "metadata": {},
   "outputs": [],
   "source": [
    "class optim:\n",
    "    def __init__(self, params, lr):\n",
    "        self.params = params\n",
    "        self.lr = Tensor(np.array(lr))\n",
    "        \n",
    "    def step(self):\n",
    "        for param in self.params:\n",
    "            param -= param.grad * self.lr\n",
    "        \n",
    "    def zero_grad(self):\n",
    "        for param in self.params:\n",
    "            param.grad = param.grad * 0"
   ]
  },
  {
   "cell_type": "code",
   "execution_count": null,
   "metadata": {},
   "outputs": [],
   "source": [
    "class CrossEntropy(Module):\n",
    "    def __init__(self, num_class):\n",
    "        super().__init__()\n",
    "        self.num_class = num_class\n",
    "        \n",
    "    def forward(self, y, target):\n",
    "        T = Tensor(one_hot(target, self.num_class), requires_grad=False)\n",
    "        return (y * T).sum() * -1\n",
    "        "
   ]
  },
  {
   "cell_type": "code",
   "execution_count": null,
   "metadata": {},
   "outputs": [],
   "source": [
    "m = simple()"
   ]
  },
  {
   "cell_type": "code",
   "execution_count": null,
   "metadata": {},
   "outputs": [],
   "source": [
    "p = m.get_parameters()\n",
    "opt = optim(p, 0.001)"
   ]
  },
  {
   "cell_type": "code",
   "execution_count": null,
   "metadata": {},
   "outputs": [],
   "source": [
    "for i in range(len(p)):\n",
    "    p[i].data = p[i].data * 0.001\n"
   ]
  },
  {
   "cell_type": "code",
   "execution_count": null,
   "metadata": {},
   "outputs": [],
   "source": [
    "target = np.array(test_ds[1])\n",
    "test = Tensor(test_ds[0].reshape((-1, 784)), requires_grad=False)"
   ]
  },
  {
   "cell_type": "code",
   "execution_count": null,
   "metadata": {},
   "outputs": [],
   "source": [
    "criterion = CrossEntropy(num_class=10)"
   ]
  },
  {
   "cell_type": "code",
   "execution_count": null,
   "metadata": {},
   "outputs": [],
   "source": [
    "trace = {'loss':[], 'acc':[]}\n",
    "\n",
    "for x, t in t_dl:\n",
    "    y = m(x)\n",
    "    loss = criterion(y, t)\n",
    "    loss.backward()   \n",
    "    opt.step()\n",
    "    opt.zero_grad()\n",
    "    \n",
    "    label = m(test).data.argmax(axis=-1)\n",
    "    acc = (label == target).sum() * 100 / target.shape\n",
    "    trace['loss'].append(loss.data[0][0])\n",
    "    trace['acc'].append(acc[0])\n",
    "print(f\"{acc=}\")"
   ]
  },
  {
   "cell_type": "code",
   "execution_count": null,
   "metadata": {},
   "outputs": [],
   "source": [
    "import matplotlib.pyplot as plt"
   ]
  },
  {
   "cell_type": "code",
   "execution_count": null,
   "metadata": {},
   "outputs": [
    {
     "data": {
      "text/plain": [
       "Text(0, 0.5, 'Percent')"
      ]
     },
     "execution_count": 21,
     "metadata": {},
     "output_type": "execute_result"
    },
    {
     "data": {
      "image/png": "[encoded data removed]",
      "text/plain": [
       "<Figure size 432x288 with 2 Axes>"
      ]
     },
     "metadata": {
      "needs_background": "light"
     },
     "output_type": "display_data"
    }
   ],
   "source": [
    "ax1 = plt.subplot()\n",
    "ax2 = ax1.twinx()\n",
    "l1, = ax1.plot(trace['loss'], color='blue', label='loss')\n",
    "l2, = ax2.plot(trace['acc'], color='black', label='accuracy')\n",
    "\n",
    "ax1.set_ylabel('CE')\n",
    "ax2.set_ylabel('Percent')\n"
   ]
  }
 ],
 "metadata": {
  "kernelspec": {
   "display_name": "Python 3.8.9 64-bit",
   "language": "python",
   "name": "python3"
  },
  "language_info": {
   "codemirror_mode": {
    "name": "ipython",
    "version": 3
   },
   "file_extension": ".py",
   "mimetype": "text/x-python",
   "name": "python",
   "nbconvert_exporter": "python",
   "pygments_lexer": "ipython3",
   "version": "3.8.9"
  },
  "vscode": {
   "interpreter": {
    "hash": "31f2aee4e71d21fbe5cf8b01ff0e069b9275f58929596ceb00d14d90e3e16cd6"
   }
  }
 },
 "nbformat": 4,
 "nbformat_minor": 2
}
