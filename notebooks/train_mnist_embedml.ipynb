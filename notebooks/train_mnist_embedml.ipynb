{
 "cells": [
  {
   "cell_type": "code",
   "execution_count": 1,
   "metadata": {},
   "outputs": [],
   "source": [
    "# if not installed\n",
    "# import sys\n",
    "# sys.path.append(\"./..\")"
   ]
  },
  {
   "cell_type": "code",
   "execution_count": 2,
   "metadata": {},
   "outputs": [],
   "source": [
    "# To download the mnist dataset \n",
    "from torchvision import datasets"
   ]
  },
  {
   "cell_type": "code",
   "execution_count": 3,
   "metadata": {},
   "outputs": [],
   "source": [
    "import os\n",
    "import numpy as np\n",
    "from tqdm.notebook import tqdm\n",
    "import matplotlib.pyplot as plt"
   ]
  },
  {
   "cell_type": "code",
   "execution_count": 4,
   "metadata": {},
   "outputs": [],
   "source": [
    "from embedml.tensor import Tensor\n",
    "from embedml.nn import Linear\n",
    "from embedml.nn import Module\n",
    "from embedml.nn import LogSoftmax\n",
    "from embedml.util import DataLoader\n",
    "from embedml.util import Dataset\n",
    "from embedml.nn import SGD\n",
    "from embedml.nn import CrossEntropy"
   ]
  },
  {
   "cell_type": "code",
   "execution_count": 5,
   "metadata": {},
   "outputs": [],
   "source": [
    "ds = datasets.MNIST('data', download=True)"
   ]
  },
  {
   "cell_type": "code",
   "execution_count": 6,
   "metadata": {},
   "outputs": [],
   "source": [
    "class dataset(Dataset):\n",
    "    def __init__(self, data, targets):\n",
    "        super().__init__()\n",
    "        self.len = len(data)\n",
    "        self.data = data.view((-1, 28 * 28)).float()\n",
    "        self.normalize()\n",
    "        self.targets = targets\n",
    "\n",
    "    def normalize(self):\n",
    "        self.mean = self.data.mean(axis=-1, keepdim=True)\n",
    "        self.std = self.data.std(axis=-1, keepdim=True)\n",
    "        self.data = (self.data - self.mean) / self.std\n",
    "        \n",
    "    def __getitem__(self, idx):\n",
    "        return Tensor(self.data[idx], requires_grad=False), Tensor(self.targets[idx], requires_grad=False)\n",
    "\n",
    "    def __len__(self):\n",
    "        return self.len"
   ]
  },
  {
   "cell_type": "code",
   "execution_count": 7,
   "metadata": {},
   "outputs": [],
   "source": [
    "train_ds , test_ds = (ds.data[:50000], ds.targets[:50000]) , (ds.data[50000:], ds.targets[50000:])\n",
    "train = dataset(*train_ds)"
   ]
  },
  {
   "cell_type": "code",
   "execution_count": 27,
   "metadata": {},
   "outputs": [],
   "source": [
    "t_dl = DataLoader(train, batch_size=128, shuffle=True)"
   ]
  },
  {
   "cell_type": "code",
   "execution_count": 28,
   "metadata": {},
   "outputs": [],
   "source": [
    "class simple(Module):\n",
    "    def __init__(self):\n",
    "        super().__init__()\n",
    "        self.l1 = Linear(28 * 28, 64)\n",
    "        self.l2 = Linear(64, 10)\n",
    "        self.ac = LogSoftmax(dim=1)\n",
    "    def forward(self, data):\n",
    "        y0 = self.l1(data).relu()\n",
    "        y1 = self.ac(self.l2(y0))\n",
    "        return y1"
   ]
  },
  {
   "cell_type": "code",
   "execution_count": 29,
   "metadata": {},
   "outputs": [],
   "source": [
    "m = simple()"
   ]
  },
  {
   "cell_type": "code",
   "execution_count": 30,
   "metadata": {},
   "outputs": [],
   "source": [
    "p = m.get_parameters()\n",
    "opt = SGD(p, Tensor(np.array(0.0005)))"
   ]
  },
  {
   "cell_type": "code",
   "execution_count": 31,
   "metadata": {},
   "outputs": [],
   "source": [
    "target = np.array(test_ds[1])\n",
    "test = Tensor(test_ds[0].reshape((-1, 784)), requires_grad=False)"
   ]
  },
  {
   "cell_type": "code",
   "execution_count": 32,
   "metadata": {},
   "outputs": [],
   "source": [
    "criterion = CrossEntropy(num_class=10)"
   ]
  },
  {
   "cell_type": "code",
   "execution_count": 33,
   "metadata": {},
   "outputs": [],
   "source": [
    "trace = {'loss':[], 'acc':[]}"
   ]
  },
  {
   "cell_type": "code",
   "execution_count": 35,
   "metadata": {},
   "outputs": [
    {
     "data": {
      "application/vnd.jupyter.widget-view+json": {
       "model_id": "d70921acf77b4c2b939a0cc108cc7338",
       "version_major": 2,
       "version_minor": 0
      },
      "text/plain": [
       "  0%|          | 0/390 [00:00<?, ?it/s]"
      ]
     },
     "metadata": {},
     "output_type": "display_data"
    }
   ],
   "source": [
    "nepoch = 1\n",
    "for i in range(nepoch):\n",
    "    with tqdm(t_dl) as tq:\n",
    "        for idx, (x, t) in enumerate(tq):\n",
    "            y = m(x)\n",
    "            loss = criterion(y, t)\n",
    "            loss.backward()\n",
    "            opt.step()\n",
    "            opt.zero_grad()\n",
    "            label = m(test).data.argmax(axis=-1)\n",
    "            accuracy = (label == target).sum() * 100 / target.shape\n",
    "            trace['loss'].append(loss.data[0][0])\n",
    "            trace['acc'].append(accuracy)\n",
    "            tq.set_postfix(accuracy=f'{trace[\"acc\"][-1][0]:0.4f}')"
   ]
  },
  {
   "cell_type": "code",
   "execution_count": 36,
   "metadata": {},
   "outputs": [
    {
     "data": {
      "text/plain": [
       "Text(0, 0.5, 'Percent')"
      ]
     },
     "execution_count": 36,
     "metadata": {},
     "output_type": "execute_result"
    },
    {
     "data": {
      "image/png": "[encoded data removed]",
      "text/plain": [
       "<Figure size 432x288 with 2 Axes>"
      ]
     },
     "metadata": {
      "needs_background": "light"
     },
     "output_type": "display_data"
    }
   ],
   "source": [
    "ax1 = plt.subplot()\n",
    "ax2 = ax1.twinx()\n",
    "l1, = ax1.plot(trace['loss'], color='blue', label='loss')\n",
    "l2, = ax2.plot(trace['acc'], color='black', label='accuracy')\n",
    "\n",
    "ax1.set_ylabel('CE')\n",
    "ax2.set_ylabel('Percent')"
   ]
  }
 ],
 "metadata": {
  "kernelspec": {
   "display_name": "Python 3.8.9 64-bit",
   "language": "python",
   "name": "python3"
  },
  "language_info": {
   "codemirror_mode": {
    "name": "ipython",
    "version": 3
   },
   "file_extension": ".py",
   "mimetype": "text/x-python",
   "name": "python",
   "nbconvert_exporter": "python",
   "pygments_lexer": "ipython3",
   "version": "3.8.9"
  },
  "vscode": {
   "interpreter": {
    "hash": "31f2aee4e71d21fbe5cf8b01ff0e069b9275f58929596ceb00d14d90e3e16cd6"
   }
  }
 },
 "nbformat": 4,
 "nbformat_minor": 2
}
