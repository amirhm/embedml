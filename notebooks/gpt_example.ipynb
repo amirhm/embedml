{
 "cells": [
  {
   "cell_type": "code",
   "execution_count": null,
   "id": "34ca59a5",
   "metadata": {},
   "outputs": [],
   "source": [
    "import itertools"
   ]
  },
  {
   "cell_type": "code",
   "execution_count": null,
   "id": "0211b212",
   "metadata": {},
   "outputs": [],
   "source": [
    "import sys\n",
    "sys.path.append('./..')"
   ]
  },
  {
   "cell_type": "code",
   "execution_count": null,
   "id": "8066d041",
   "metadata": {},
   "outputs": [],
   "source": [
    "import numpy as np\n",
    "from embedml.nn import CrossEntropy\n",
    "from embedml.util import Dataset\n",
    "from embedml.util import DataLoader\n",
    "from collections import namedtuple"
   ]
  },
  {
   "cell_type": "code",
   "execution_count": null,
   "id": "796a8d1f",
   "metadata": {},
   "outputs": [],
   "source": [
    "from models.gpt import GPT\n",
    "from collections import namedtuple"
   ]
  },
  {
   "cell_type": "code",
   "execution_count": null,
   "id": "248a28b9",
   "metadata": {},
   "outputs": [],
   "source": [
    "class data(Dataset):\n",
    "    def __init__(self, ndigit=3, train=True):\n",
    "        self.train = train\n",
    "        self.ndigit = ndigit\n",
    "        self._generate()\n",
    "        pass\n",
    "    def _generate(self):\n",
    "        self.p = itertools.product(np.random.permutation(10 ** self.ndigit), np.random.permutation(10 ** self.ndigit))\n",
    "\n",
    "    @property\n",
    "    def get_vocab_size(self):\n",
    "        return 10 # digits 0..9\n",
    "    @property\n",
    "    def get_block_size(self):\n",
    "        return 3 * self.ndigit + 1 - 1\n",
    "    def __len__(self):\n",
    "        return 10 ** (self.ndigit * 2) * 8 // 10 if self.train else 10 ** (self.ndigit * 2) * 2 // 10\n",
    "    \n",
    "    def __getitem__(self, idx):\n",
    "        if isinstance(idx, int) and idx < self.__len__():\n",
    "            rng = [idx]\n",
    "            \n",
    "        if idx[-1] < self.__len__(): \n",
    "            try:\n",
    "                ab = [next(self.p) for j in idx]\n",
    "            except StopIteration:\n",
    "                raise\n",
    "            \n",
    "            fmt0, fmt1 = f'0{self.ndigit}', f'0{self.ndigit + 1}'\n",
    "            ls =[]\n",
    "            for a, b in ab:\n",
    "                ret = f\"{a:{fmt0}}{b:{fmt0}}{f'{a+b:{fmt1}}'[::-1]}\"\n",
    "                ls.append([int(s) for s in ret])\n",
    "        \n",
    "            x = np.array(list(map(lambda x: x[:-1], ls)), dtype=int)\n",
    "            y = np.array(list(map(lambda x: x[1:], ls)), dtype=int) \n",
    "            y[:,:self.ndigit*2-1] = -1 \n",
    "                \n",
    "        \n",
    "        else:\n",
    "            self._generate()\n",
    "            raise StopIteration\n",
    "        return x, y\n",
    "        "
   ]
  },
  {
   "cell_type": "code",
   "execution_count": null,
   "id": "7bfac85f",
   "metadata": {},
   "outputs": [],
   "source": [
    "d = data(ndigit=2, train=True)"
   ]
  },
  {
   "cell_type": "code",
   "execution_count": null,
   "id": "a30ce2e6",
   "metadata": {},
   "outputs": [],
   "source": [
    "dl = DataLoader(d, batch_size=8)"
   ]
  },
  {
   "cell_type": "code",
   "execution_count": null,
   "id": "e7298a8c",
   "metadata": {},
   "outputs": [],
   "source": [
    "config = namedtuple(\n",
    "        'config',\n",
    "        ['n_layer', 'n_embd', 'n_head', 'resid_pdrop', 'attn_pdrop', 'vocab_size', 'block_size', 'embd_pdrop'],\n",
    "        defaults=[1, 48, 3, 0.1, 0.1, 10, 6, 0.1]\n",
    "    )"
   ]
  },
  {
   "cell_type": "code",
   "execution_count": null,
   "id": "d3c0ca47",
   "metadata": {},
   "outputs": [],
   "source": [
    "gpt = GPT(config)"
   ]
  },
  {
   "cell_type": "code",
   "execution_count": null,
   "id": "56cb0e72",
   "metadata": {},
   "outputs": [],
   "source": [
    "x, y = next(dl)"
   ]
  },
  {
   "cell_type": "code",
   "execution_count": null,
   "id": "d33c5afc",
   "metadata": {},
   "outputs": [],
   "source": [
    "t = gpt(x)"
   ]
  },
  {
   "cell_type": "code",
   "execution_count": null,
   "id": "1d9ebd6a",
   "metadata": {},
   "outputs": [],
   "source": [
    "criterion= CrossEntropy(num_class=10) # TODO: ignore -1"
   ]
  },
  {
   "cell_type": "code",
   "execution_count": null,
   "id": "4b3b28d5",
   "metadata": {},
   "outputs": [],
   "source": [
    "l = criterion(t.reshape((-1, 10)), y.reshape((1, -1)))"
   ]
  },
  {
   "cell_type": "code",
   "execution_count": null,
   "id": "03b665fd",
   "metadata": {},
   "outputs": [],
   "source": [
    "l.backward()"
   ]
  }
 ],
 "metadata": {
  "kernelspec": {
   "display_name": "Python 3 (ipykernel)",
   "language": "python",
   "name": "python3"
  },
  "language_info": {
   "codemirror_mode": {
    "name": "ipython",
    "version": 3
   },
   "file_extension": ".py",
   "mimetype": "text/x-python",
   "name": "python",
   "nbconvert_exporter": "python",
   "pygments_lexer": "ipython3",
   "version": "3.9.6"
  }
 },
 "nbformat": 4,
 "nbformat_minor": 5
}
